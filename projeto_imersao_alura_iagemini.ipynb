{
  "cells": [
    {
      "cell_type": "markdown",
      "metadata": {
        "id": "view-in-github",
        "colab_type": "text"
      },
      "source": [
        "<a href=\"https://colab.research.google.com/github/davidbs09/projeto_imersao_alura/blob/main/projeto_imersao_alura_iagemini.ipynb\" target=\"_parent\"><img src=\"https://colab.research.google.com/assets/colab-badge.svg\" alt=\"Open In Colab\"/></a>"
      ]
    },
    {
      "cell_type": "code",
      "source": [
        "import requests\n",
        "from google.colab import userdata\n",
        "\n",
        "# Informe a API KEY do OpenWeatherMap\n",
        "api_key = userdata.get('SECRET_KEY_2')\n",
        "\n",
        "def obter_previsao(cidade, estado):\n",
        "    url = f\"http://api.openweathermap.org/data/2.5/weather?q={cidade},{estado}&appid={api_key}&units=metric\"\n",
        "    response = requests.get(url)\n",
        "\n",
        "    if response.status_code == 200:\n",
        "        dados = response.json()\n",
        "        previsao = {\n",
        "            \"cidade\": cidade,\n",
        "            \"estado\": estado,\n",
        "            \"temperatura\": dados['main']['temp'],\n",
        "            \"descricao\": dados['weather'][0]['description'],\n",
        "        }\n",
        "        return previsao\n",
        "    else:\n",
        "        print(f\"Erro ao obter os dados da API. Código de status: {response.status_code}\")\n",
        "        return None\n",
        "\n",
        "while True:\n",
        "    cidade = input(\"Digite o nome da cidade: \")\n",
        "    if cidade.lower() == \"fim\":\n",
        "        break\n",
        "\n",
        "    estado = input(\"Digite o estado: \")\n",
        "\n",
        "    previsao = obter_previsao(cidade, estado)\n",
        "\n",
        "    if previsao:\n",
        "        print(f\"Previsão do tempo para {previsao['cidade']}, {previsao['estado']}:\")\n",
        "        print(f\"Temperatura: {previsao['temperatura']}°C\")\n",
        "        print(f\"Descrição: {previsao['descricao']}\")\n",
        "        print('-----------------------------------')"
      ],
      "metadata": {
        "colab": {
          "base_uri": "https://localhost:8080/"
        },
        "id": "mWgQcmGPuZcO",
        "outputId": "e32544ee-bde4-4cf8-d724-70e6ea40a4c1"
      },
      "execution_count": 26,
      "outputs": [
        {
          "name": "stdout",
          "output_type": "stream",
          "text": [
            "Digite o nome da cidade: suzano\n",
            "Digite o estado: sao paulo\n",
            "Previsão do tempo para suzano, sao paulo:\n",
            "Temperatura: 29.79°C\n",
            "Descrição: scattered clouds\n",
            "-----------------------------------\n",
            "Digite o nome da cidade: pindamonhangaba\n",
            "Digite o estado: sao paulo\n",
            "Previsão do tempo para pindamonhangaba, sao paulo:\n",
            "Temperatura: 32.14°C\n",
            "Descrição: scattered clouds\n",
            "-----------------------------------\n",
            "Digite o nome da cidade: fim\n"
          ]
        }
      ]
    },
    {
      "cell_type": "code",
      "source": [],
      "metadata": {
        "id": "d3VgyPQ23vRa"
      },
      "execution_count": null,
      "outputs": []
    }
  ],
  "metadata": {
    "colab": {
      "provenance": [],
      "authorship_tag": "ABX9TyPrffzosS5kQaslRVZfdR4P",
      "include_colab_link": true
    },
    "kernelspec": {
      "display_name": "Python 3",
      "name": "python3"
    },
    "language_info": {
      "name": "python"
    }
  },
  "nbformat": 4,
  "nbformat_minor": 0
}